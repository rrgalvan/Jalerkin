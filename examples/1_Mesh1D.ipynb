{
 "cells": [
  {
   "cell_type": "markdown",
   "metadata": {},
   "source": [
    "# Example 1. Mesh1D"
   ]
  },
  {
   "cell_type": "code",
   "execution_count": 5,
   "metadata": {},
   "outputs": [
    {
     "name": "stderr",
     "output_type": "stream",
     "text": [
      "\u001b[32m\u001b[1m  Activating\u001b[22m\u001b[39m project at `~/src/julia/Jalerkin`\n"
     ]
    }
   ],
   "source": [
    "# Activate the package Jalerkin (root located at top directory of \"examples/\", \"..\")\n",
    "using Pkg\n",
    "JALERKIN_DIR = \"..\"\n",
    "Pkg.activate(JALERKIN_DIR)"
   ]
  },
  {
   "cell_type": "code",
   "execution_count": 7,
   "metadata": {},
   "outputs": [
    {
     "name": "stderr",
     "output_type": "stream",
     "text": [
      "┌ Info: Precompiling Jalerkin [1719b3bc-7dca-41b2-aee3-2b553c138c1e]\n",
      "└ @ Base loading.jl:1423\n"
     ]
    }
   ],
   "source": [
    "# 'Revise' lets Jalekin modules to be autoreloaded if they are modified\n",
    "# It should be used *only while Jalerkin is being developed* (it slows down the code)\n",
    "using Revise  \n",
    "\n",
    "# Load Jalerkin module\n",
    "using Jalerkin"
   ]
  },
  {
   "cell_type": "code",
   "execution_count": 8,
   "metadata": {
    "scrolled": true
   },
   "outputs": [
    {
     "data": {
      "text/plain": [
       "Mesh{StaticArrays.SVector{2, Int64}, StaticArrays.SVector{1, Float64}}(StaticArrays.SVector{2, Int64}[[1, 2], [2, 3], [3, 4], [4, 5]], StaticArrays.SVector{1, Float64}[[0.0], [0.25], [0.5], [0.75], [1.0]])"
      ]
     },
     "execution_count": 8,
     "metadata": {},
     "output_type": "execute_result"
    }
   ],
   "source": [
    "# Define a mesh in the interval [0, 1]\n",
    "a, b = 0, 1\n",
    "ncells = 4\n",
    "mesh = Mesh1D(a, b, ncells)"
   ]
  },
  {
   "cell_type": "code",
   "execution_count": 9,
   "metadata": {},
   "outputs": [
    {
     "data": {
      "text/plain": [
       "4-element Vector{StaticArrays.SVector{2, Int64}}:\n",
       " [1, 2]\n",
       " [2, 3]\n",
       " [3, 4]\n",
       " [4, 5]"
      ]
     },
     "execution_count": 9,
     "metadata": {},
     "output_type": "execute_result"
    }
   ],
   "source": [
    "# Vector of cells (each one is a vector, indices of cell vertices)\n",
    "get_cell_vector(mesh)"
   ]
  },
  {
   "cell_type": "code",
   "execution_count": 10,
   "metadata": {},
   "outputs": [
    {
     "data": {
      "text/plain": [
       "5-element Vector{StaticArrays.SVector{1, Float64}}:\n",
       " [0.0]\n",
       " [0.25]\n",
       " [0.5]\n",
       " [0.75]\n",
       " [1.0]"
      ]
     },
     "execution_count": 10,
     "metadata": {},
     "output_type": "execute_result"
    }
   ],
   "source": [
    "# Vector of coordinaes for each vertex\n",
    "get_coord_vector(mesh)"
   ]
  },
  {
   "cell_type": "code",
   "execution_count": 11,
   "metadata": {},
   "outputs": [
    {
     "name": "stdout",
     "output_type": "stream",
     "text": [
      "Cell 1:, vertex 1->[0.0], vertex 2->[0.25]\n",
      "Cell 2:, vertex 2->[0.25], vertex 3->[0.5]\n",
      "Cell 3:, vertex 3->[0.5], vertex 4->[0.75]\n",
      "Cell 4:, vertex 4->[0.75], vertex 5->[1.0]\n"
     ]
    }
   ],
   "source": [
    "# Print all data for a mesh\n",
    "\n",
    "cells = get_cell_vector(mesh)\n",
    "vertices = get_coord_vector(mesh)\n",
    "for i = 1:length(cells)\n",
    "    cell = cells[i]\n",
    "    index_v1 = cell[1]\n",
    "    index_v2 = cell[2]\n",
    "    x1 = vertices[index_v1]\n",
    "    x2 = vertices[index_v2]\n",
    "    println(\"Cell $i:, vertex $index_v1->$x1, vertex $index_v2->$x2\")\n",
    "end"
   ]
  },
  {
   "cell_type": "code",
   "execution_count": 12,
   "metadata": {},
   "outputs": [
    {
     "ename": "LoadError",
     "evalue": "UndefVarError: get_coord_cell not defined",
     "output_type": "error",
     "traceback": [
      "UndefVarError: get_coord_cell not defined",
      "",
      "Stacktrace:",
      " [1] top-level scope",
      "   @ In[12]:1",
      " [2] eval",
      "   @ ./boot.jl:373 [inlined]",
      " [3] include_string(mapexpr::typeof(REPL.softscope), mod::Module, code::String, filename::String)",
      "   @ Base ./loading.jl:1196"
     ]
    }
   ],
   "source": [
    "get_coord_cell(mesh, 1)"
   ]
  },
  {
   "cell_type": "code",
   "execution_count": null,
   "metadata": {},
   "outputs": [],
   "source": []
  }
 ],
 "metadata": {
  "@webio": {
   "lastCommId": null,
   "lastKernelId": null
  },
  "kernelspec": {
   "display_name": "Julia 1.7.1",
   "language": "julia",
   "name": "julia-1.7"
  },
  "language_info": {
   "file_extension": ".jl",
   "mimetype": "application/julia",
   "name": "julia",
   "version": "1.7.1"
  }
 },
 "nbformat": 4,
 "nbformat_minor": 4
}
