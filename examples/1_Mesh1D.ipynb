{
 "cells": [
  {
   "cell_type": "markdown",
   "metadata": {},
   "source": [
    "# Example 1. Mesh1D"
   ]
  },
  {
   "cell_type": "code",
   "execution_count": 1,
   "metadata": {},
   "outputs": [
    {
     "name": "stderr",
     "output_type": "stream",
     "text": [
      "\u001b[32m\u001b[1m Activating\u001b[22m\u001b[39m environment at `~/src/julia/Jalerkin/Project.toml`\n"
     ]
    }
   ],
   "source": [
    "# Activate the package Jalerkin\n",
    "using Pkg\n",
    "JALERKIN_DIR = \"..\"\n",
    "Pkg.activate(JALERKIN_DIR)"
   ]
  },
  {
   "cell_type": "code",
   "execution_count": 2,
   "metadata": {},
   "outputs": [],
   "source": [
    "using Jalerkin"
   ]
  },
  {
   "cell_type": "code",
   "execution_count": 3,
   "metadata": {
    "scrolled": true
   },
   "outputs": [
    {
     "data": {
      "text/plain": [
       "Jalerkin.Mesh{StaticArrays.SArray{Tuple{2},Int64,1,2},StaticArrays.SArray{Tuple{1},Float64,1,1}}(StaticArrays.SArray{Tuple{2},Int64,1,2}[[1, 2], [2, 3]], StaticArrays.SArray{Tuple{1},Float64,1,1}[[0.0], [0.5], [1.0]])"
      ]
     },
     "execution_count": 3,
     "metadata": {},
     "output_type": "execute_result"
    }
   ],
   "source": [
    "# Define a mesh in the interval [0, 1]\n",
    "a, b = 0, 1\n",
    "ncells = 2\n",
    "m = Mesh1D(a, b, ncells)"
   ]
  },
  {
   "cell_type": "code",
   "execution_count": 4,
   "metadata": {},
   "outputs": [
    {
     "data": {
      "text/plain": [
       "3-element Array{StaticArrays.SArray{Tuple{1},Float64,1,1},1}:\n",
       " [0.0]\n",
       " [0.5]\n",
       " [1.0]"
      ]
     },
     "execution_count": 4,
     "metadata": {},
     "output_type": "execute_result"
    }
   ],
   "source": [
    "# Print coordinates of each vertex\n",
    "m.vertices"
   ]
  },
  {
   "cell_type": "code",
   "execution_count": 5,
   "metadata": {},
   "outputs": [
    {
     "data": {
      "text/plain": [
       "2-element Array{StaticArrays.SArray{Tuple{2},Int64,1,2},1}:\n",
       " [1, 2]\n",
       " [2, 3]"
      ]
     },
     "execution_count": 5,
     "metadata": {},
     "output_type": "execute_result"
    }
   ],
   "source": [
    "# Print cells (indices of vertices in each cell)\n",
    "m.cells"
   ]
  },
  {
   "cell_type": "code",
   "execution_count": null,
   "metadata": {},
   "outputs": [],
   "source": []
  }
 ],
 "metadata": {
  "@webio": {
   "lastCommId": null,
   "lastKernelId": null
  },
  "kernelspec": {
   "display_name": "Julia 1.5.1",
   "language": "julia",
   "name": "julia-1.5"
  },
  "language_info": {
   "file_extension": ".jl",
   "mimetype": "application/julia",
   "name": "julia",
   "version": "1.5.1"
  }
 },
 "nbformat": 4,
 "nbformat_minor": 4
}
