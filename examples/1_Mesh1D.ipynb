{
 "cells": [
  {
   "cell_type": "markdown",
   "metadata": {},
   "source": [
    "# Example 1. Mesh1D"
   ]
  },
  {
   "cell_type": "code",
   "execution_count": 1,
   "metadata": {},
   "outputs": [
    {
     "name": "stderr",
     "output_type": "stream",
     "text": [
      "\u001b[32m\u001b[1m Activating\u001b[22m\u001b[39m environment at `~/src/julia/Jalerkin/Project.toml`\n"
     ]
    }
   ],
   "source": [
    "# Activate the package Jalerkin (located at top directory, \"..\")\n",
    "using Pkg\n",
    "JALERKIN_DIR = \"..\"\n",
    "Pkg.activate(JALERKIN_DIR)"
   ]
  },
  {
   "cell_type": "code",
   "execution_count": 3,
   "metadata": {},
   "outputs": [
    {
     "name": "stderr",
     "output_type": "stream",
     "text": [
      "┌ Info: Precompiling Jalerkin [1719b3bc-7dca-41b2-aee3-2b553c138c1e]\n",
      "└ @ Base loading.jl:1278\n"
     ]
    }
   ],
   "source": [
    "# 'Revise' lets Jalekin modules to be autoreloaded if they are modified\n",
    "# It should be used *only while Jalerkin is being developed* (it slows down the code)\n",
    "using Revise  \n",
    "\n",
    "# Load Jalerkin module\n",
    "using Jalerkin"
   ]
  },
  {
   "cell_type": "code",
   "execution_count": 6,
   "metadata": {
    "scrolled": true
   },
   "outputs": [
    {
     "data": {
      "text/plain": [
       "Mesh{StaticArrays.SArray{Tuple{2},Int64,1,2},StaticArrays.SArray{Tuple{1},Float64,1,1}}(StaticArrays.SArray{Tuple{2},Int64,1,2}[[1, 2], [2, 3]], StaticArrays.SArray{Tuple{1},Float64,1,1}[[0.0], [0.5], [1.0]])"
      ]
     },
     "execution_count": 6,
     "metadata": {},
     "output_type": "execute_result"
    }
   ],
   "source": [
    "# Define a mesh in the interval [0, 1]\n",
    "a, b = 0, 1\n",
    "ncells = 2\n",
    "mesh = Mesh1D(a, b, ncells)"
   ]
  },
  {
   "cell_type": "code",
   "execution_count": 12,
   "metadata": {},
   "outputs": [
    {
     "ename": "LoadError",
     "evalue": "UndefVarError: gausslegendre not defined",
     "output_type": "error",
     "traceback": [
      "UndefVarError: gausslegendre not defined",
      "",
      "Stacktrace:",
      " [1] GaussianQuadrature(::Int64) at /home/rrgalvan/src/julia/Jalerkin/src/Quadrature.jl:41",
      " [2] FiniteElement(::Mesh{StaticArrays.SArray{Tuple{2},Int64,1,2},StaticArrays.SArray{Tuple{1},Float64,1,1}}, ::Type{Lagrange}, ::Int64) at /home/rrgalvan/src/julia/Jalerkin/src/FiniteElement.jl:39",
      " [3] top-level scope at In[12]:1",
      " [4] include_string(::Function, ::Module, ::String, ::String) at ./loading.jl:1091"
     ]
    }
   ],
   "source": [
    "fe = FiniteElement(mesh, Lagrange, 1)"
   ]
  },
  {
   "cell_type": "code",
   "execution_count": null,
   "metadata": {},
   "outputs": [],
   "source": []
  },
  {
   "cell_type": "code",
   "execution_count": null,
   "metadata": {},
   "outputs": [],
   "source": []
  }
 ],
 "metadata": {
  "@webio": {
   "lastCommId": null,
   "lastKernelId": null
  },
  "kernelspec": {
   "display_name": "Julia 1.5.1",
   "language": "julia",
   "name": "julia-1.5"
  },
  "language_info": {
   "file_extension": ".jl",
   "mimetype": "application/julia",
   "name": "julia",
   "version": "1.5.1"
  }
 },
 "nbformat": 4,
 "nbformat_minor": 4
}
