{
 "cells": [
  {
   "cell_type": "markdown",
   "metadata": {},
   "source": [
    "# Example 2. Finite Element 1D"
   ]
  },
  {
   "cell_type": "code",
   "execution_count": 1,
   "metadata": {},
   "outputs": [
    {
     "name": "stderr",
     "output_type": "stream",
     "text": [
      "\u001b[32m\u001b[1m Activating\u001b[22m\u001b[39m environment at `~/src/julia/Jalerkin/Project.toml`\n"
     ]
    }
   ],
   "source": [
    "# Activate the package Jalerkin\n",
    "using Pkg\n",
    "JALERKIN_DIR = \"..\"\n",
    "Pkg.activate(JALERKIN_DIR)"
   ]
  },
  {
   "cell_type": "code",
   "execution_count": 2,
   "metadata": {},
   "outputs": [
    {
     "name": "stderr",
     "output_type": "stream",
     "text": [
      "┌ Info: Precompiling Jalerkin [1719b3bc-7dca-41b2-aee3-2b553c138c1e]\n",
      "└ @ Base loading.jl:1278\n"
     ]
    }
   ],
   "source": [
    "# 'Revise' allows modules to be autoreloaded if they are modified\n",
    "# It should be used *only while Jalerkin is being developed* (it slows down the code)\n",
    "using Revise  \n",
    "\n",
    "# Load Jalerkin package\n",
    "using Jalerkin"
   ]
  },
  {
   "cell_type": "code",
   "execution_count": 28,
   "metadata": {},
   "outputs": [
    {
     "name": "stdout",
     "output_type": "stream",
     "text": [
      "0.25\n",
      "0.0"
     ]
    }
   ],
   "source": [
    "# Test Quadrature: \n",
    "\n",
    "# a) compute $\\int_0^1 x^3 dx$ using Simpson's quad. rule\n",
    "nodes = [0, 0.5, 1]\n",
    "weights = [1/6, 2/3, 1/6]\n",
    "simpson_qr = Quadrature{3}(nodes, weights)\n",
    "println(quad(simpson_qr, x->x^3))\n",
    "@assert quad(simpson_qr, x->x^3) ≈ 1/4\n",
    "\n",
    "# b) compute $\\int_{-1}^1 x^6 dx$ using Gaussian quad. rule\n",
    "gauss_qr = GaussianQuadrature(4) # Exact up to order 2*4-1 = 7\n",
    "print(quad(gauss_qr, x->x^7))\n",
    "@assert quad(gauss_qr, x->x^7) ≈ 0"
   ]
  },
  {
   "cell_type": "code",
   "execution_count": 4,
   "metadata": {
    "scrolled": true
   },
   "outputs": [],
   "source": [
    "# Define a mesh in the interval [0, 1]\n",
    "a, b = 0, 1\n",
    "ncells = 2\n",
    "mesh = Mesh1D(a, b, ncells);"
   ]
  },
  {
   "cell_type": "code",
   "execution_count": 16,
   "metadata": {},
   "outputs": [
    {
     "name": "stdout",
     "output_type": "stream",
     "text": [
      "Order: 1\n",
      "\n",
      "Mesh: Mesh{StaticArrays.SArray{Tuple{2},Int64,1,2},StaticArrays.SArray{Tuple{1},Float64,1,1}}(StaticArrays.SArray{Tuple{2},Int64,1,2}[[1, 2], [2, 3]], StaticArrays.SArray{Tuple{1},Float64,1,1}[[0.0], [0.5], [1.0]])\n",
      "\n",
      "Quad. rule: Quadrature{3}([0.0, 0.5, 1.0], [0.16666666666666666, 0.6666666666666666, 0.16666666666666666]))\n",
      "\n"
     ]
    }
   ],
   "source": [
    "# Define P1-Lagrange Finite Element space on the mesh with Simpson quad. rule\n",
    "fe = FiniteElement(mesh, Lagrange, 1, quad_rule=simpson_qr)\n",
    "println(\"Order: $(get_order(fe))\\n\")\n",
    "println(\"Mesh: $(get_mesh(fe))\\n\")\n",
    "println(\"Quad. rule: $(get_quad_rule(fe)))\\n\")"
   ]
  },
  {
   "cell_type": "code",
   "execution_count": 15,
   "metadata": {},
   "outputs": [
    {
     "name": "stdout",
     "output_type": "stream",
     "text": [
      "Order: 2\n",
      "\n",
      "Mesh: Mesh{StaticArrays.SArray{Tuple{2},Int64,1,2},StaticArrays.SArray{Tuple{1},Float64,1,1}}(StaticArrays.SArray{Tuple{2},Int64,1,2}[[1, 2], [2, 3]], StaticArrays.SArray{Tuple{1},Float64,1,1}[[0.0], [0.5], [1.0]])\n",
      "\n",
      "Quad. rule: Quadrature{4}([-0.8611363115940526, -0.3399810435848563, 0.3399810435848563, 0.8611363115940526], [0.34785484513745385, 0.6521451548625462, 0.6521451548625462, 0.34785484513745385]))\n",
      "\n"
     ]
    }
   ],
   "source": [
    "# Define P2-Lagrange Finite Element with default gaussian quad\n",
    "fe = FiniteElement(mesh, Lagrange, 2)\n",
    "println(\"Order: $(get_order(fe))\\n\")\n",
    "println(\"Mesh: $(get_mesh(fe))\\n\")\n",
    "println(\"Quad. rule: $(get_quad_rule(fe)))\\n\")"
   ]
  },
  {
   "cell_type": "code",
   "execution_count": null,
   "metadata": {},
   "outputs": [],
   "source": []
  }
 ],
 "metadata": {
  "@webio": {
   "lastCommId": null,
   "lastKernelId": null
  },
  "kernelspec": {
   "display_name": "Julia 1.5.1",
   "language": "julia",
   "name": "julia-1.5"
  },
  "language_info": {
   "file_extension": ".jl",
   "mimetype": "application/julia",
   "name": "julia",
   "version": "1.5.1"
  }
 },
 "nbformat": 4,
 "nbformat_minor": 4
}
