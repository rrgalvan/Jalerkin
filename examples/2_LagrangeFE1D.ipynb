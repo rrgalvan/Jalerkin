{
 "cells": [
  {
   "cell_type": "markdown",
   "metadata": {},
   "source": [
    "# Example 2. Finite Element 1D"
   ]
  },
  {
   "cell_type": "code",
   "execution_count": 16,
   "metadata": {},
   "outputs": [
    {
     "name": "stderr",
     "output_type": "stream",
     "text": [
      "\u001b[32m\u001b[1m  Activating\u001b[22m\u001b[39m project at `~/src/julia/Jalerkin`\n"
     ]
    }
   ],
   "source": [
    "# Activate the package Jalerkin (located at top directory, \"..\")\n",
    "using Pkg\n",
    "JALERKIN_DIR = \"..\"\n",
    "Pkg.activate(JALERKIN_DIR)"
   ]
  },
  {
   "cell_type": "code",
   "execution_count": 17,
   "metadata": {},
   "outputs": [],
   "source": [
    "# 'Revise' allows modules to be autoreloaded if they are modified\n",
    "# It should be used *only while Jalerkin is being developed* (it slows down the code)\n",
    "using Revise  \n",
    "\n",
    "# Load Jalerkin package\n",
    "using Jalerkin"
   ]
  },
  {
   "cell_type": "code",
   "execution_count": 18,
   "metadata": {},
   "outputs": [
    {
     "name": "stdout",
     "output_type": "stream",
     "text": [
      "0.25\n",
      "0.0"
     ]
    }
   ],
   "source": [
    "# Test Quadrature: \n",
    "\n",
    "# a) compute $\\int_0^1 x^3 dx$ using Simpson's quad. rule\n",
    "nodes = [0, 0.5, 1]\n",
    "weights = [1/6, 2/3, 1/6]\n",
    "simpson_qr = Quadrature{3}(nodes, weights)\n",
    "println(quad(simpson_qr, x->x^3))\n",
    "@assert quad(simpson_qr, x->x^3) ≈ 1/4\n",
    "\n",
    "# b) compute $\\int_{-1}^1 x^6 dx$ using Gaussian quad. rule\n",
    "gauss_qr = GaussianQuadrature(4) # Exact up to order 2*4-1 = 7\n",
    "print(quad(gauss_qr, x->x^7))\n",
    "@assert quad(gauss_qr, x->x^7) ≈ 0"
   ]
  },
  {
   "cell_type": "code",
   "execution_count": 19,
   "metadata": {
    "scrolled": true
   },
   "outputs": [
    {
     "data": {
      "text/plain": [
       "Mesh{StaticArrays.SVector{2, Int64}, StaticArrays.SVector{1, Float64}}(StaticArrays.SVector{2, Int64}[[1, 2], [2, 3]], StaticArrays.SVector{1, Float64}[[0.0], [0.5], [1.0]])"
      ]
     },
     "execution_count": 19,
     "metadata": {},
     "output_type": "execute_result"
    }
   ],
   "source": [
    "# Define a mesh in the interval [0, 1]\n",
    "a, b = 0, 1\n",
    "ncells = 2\n",
    "mesh = Mesh1D(a, b, ncells)"
   ]
  },
  {
   "cell_type": "code",
   "execution_count": 20,
   "metadata": {},
   "outputs": [
    {
     "name": "stdout",
     "output_type": "stream",
     "text": [
      "Order: 1\n",
      "\n",
      "Mesh: Mesh{StaticArrays.SVector{2, Int64}, StaticArrays.SVector{1, Float64}}(StaticArrays.SVector{2, Int64}[[1, 2], [2, 3]], StaticArrays.SVector{1, Float64}[[0.0], [0.5], [1.0]])\n",
      "\n",
      "Quad. rule: Quadrature{3}([0.0, 0.5, 1.0], [0.16666666666666666, 0.6666666666666666, 0.16666666666666666]))\n",
      "\n"
     ]
    }
   ],
   "source": [
    "# Define P1-Lagrange Finite Element space on the mesh with Simpson quad rule\n",
    "fe = FiniteElement(mesh, Lagrange, 1, quad_rule=simpson_qr)\n",
    "println(\"Order: $(get_order(fe))\\n\")\n",
    "println(\"Mesh: $(get_mesh(fe))\\n\")\n",
    "println(\"Quad. rule: $(get_quad_rule(fe)))\\n\")"
   ]
  },
  {
   "cell_type": "code",
   "execution_count": 21,
   "metadata": {},
   "outputs": [
    {
     "name": "stdout",
     "output_type": "stream",
     "text": [
      "Order: 2\n",
      "\n",
      "Mesh: Mesh{StaticArrays.SVector{2, Int64}, StaticArrays.SVector{1, Float64}}(StaticArrays.SVector{2, Int64}[[1, 2], [2, 3]], StaticArrays.SVector{1, Float64}[[0.0], [0.5], [1.0]])\n",
      "\n",
      "Quad. rule: Quadrature{4}([-0.8611363115940526, -0.3399810435848563, 0.3399810435848563, 0.8611363115940526], [0.34785484513745385, 0.6521451548625462, 0.6521451548625462, 0.34785484513745385]))\n",
      "\n"
     ]
    }
   ],
   "source": [
    "# Define P2-Lagrange Finite Element with default gaussian quad rule\n",
    "fe = FiniteElement(mesh, Lagrange, 2)\n",
    "println(\"Order: $(get_order(fe))\\n\")\n",
    "println(\"Mesh: $(get_mesh(fe))\\n\")\n",
    "println(\"Quad. rule: $(get_quad_rule(fe)))\\n\")"
   ]
  },
  {
   "cell_type": "code",
   "execution_count": 22,
   "metadata": {},
   "outputs": [
    {
     "data": {
      "text/plain": [
       "2-element Vector{StaticArrays.SVector{2, Float64}}:\n",
       " [0.7886751345948129, 0.21132486540518708]\n",
       " [0.21132486540518708, 0.7886751345948129]"
      ]
     },
     "execution_count": 22,
     "metadata": {},
     "output_type": "execute_result"
    }
   ],
   "source": [
    "# P1 basis function: evaluation on quadrature points (in reference element)\n",
    "fe = FiniteElement(mesh, Lagrange, 1)\n",
    "get_phi(fe)"
   ]
  },
  {
   "cell_type": "code",
   "execution_count": 23,
   "metadata": {},
   "outputs": [
    {
     "data": {
      "text/plain": [
       "3-element Vector{StaticArrays.SVector{4, Float64}}:\n",
       " [-0.8013460293699308, -0.22778407679095214, 0.11219696679390419, 0.05979028222412169]\n",
       " [0.25844425285419076, 0.8844128900029521, 0.8844128900029521, 0.25844425285419076]\n",
       " [-0.05979028222412169, -0.11219696679390419, 0.22778407679095214, 0.8013460293699308]"
      ]
     },
     "execution_count": 23,
     "metadata": {},
     "output_type": "execute_result"
    }
   ],
   "source": [
    "# P2 basis function: evaluation on quadrature points (in reference element)\n",
    "fe = FiniteElement(mesh, Lagrange, 2)\n",
    "get_phi(fe)"
   ]
  },
  {
   "cell_type": "code",
   "execution_count": 24,
   "metadata": {},
   "outputs": [
    {
     "data": {
      "text/plain": [
       "4-element StaticArrays.SVector{4, Float64} with indices SOneTo(4):\n",
       " 0.08696371128436346\n",
       " 0.16303628871563655\n",
       " 0.16303628871563655\n",
       " 0.08696371128436346"
      ]
     },
     "execution_count": 24,
     "metadata": {},
     "output_type": "execute_result"
    }
   ],
   "source": [
    "element_index = 1\n",
    "JxW = get_JxW(fe, element_index)"
   ]
  },
  {
   "cell_type": "code",
   "execution_count": 25,
   "metadata": {},
   "outputs": [
    {
     "name": "stdout",
     "output_type": "stream",
     "text": [
      "phi_i evaluated on quad points: [0.7886751345948129, 0.21132486540518708]\n",
      "phi_j evaluated on quad points: [0.21132486540518708, 0.7886751345948129]\n",
      "JxW_element on quad points:     [0.25, 0.25]\n",
      "int_element(phi_i*phi_j) ≃ sum_q(JxW[q]*phi_i[q]*phi_j[q]): 0.08333333333333331"
     ]
    }
   ],
   "source": [
    "#\n",
    "# Compute the integral at element 1 of phi_i*phi_j\n",
    "#\n",
    "\n",
    "fe = FiniteElement(mesh, Lagrange, 1)\n",
    "phi = get_phi(fe) # Vector of basis functions (evaluated at each quadrature node)\n",
    "element_index = 1\n",
    "JxW = get_JxW(fe, element_index)  # Vector \"Jacobian_matrix*quadrature_weights_vector\"\n",
    "\n",
    "i, j = 1, 2\n",
    "println(\"phi_i evaluated on quad points: \", phi[i])\n",
    "println(\"phi_j evaluated on quad points: \", phi[j])\n",
    "println(\"JxW_element on quad points:     \", JxW)\n",
    "numerical_integral = sum(JxW.*phi[i].*phi[j])\n",
    "print(\"int_element(phi_i*phi_j) ≃ sum_q(JxW[q]*phi_i[q]*phi_j[q]): \", numerical_integral)"
   ]
  },
  {
   "cell_type": "markdown",
   "metadata": {},
   "source": [
    "## Build mass mattrix\n",
    "$$\n",
    "M_{ij} = \\int_\\Omega \\phi_i(x) \\phi_j(x), \\quad i,j=1,...,N_{\\text{dof}}\n",
    "$$\n",
    "\n",
    "**Algorithm** for each element, $K\\in {\\cal T}_h$:\n",
    "1. **Compute local matrix**,    \n",
    "$$\n",
    "M^K_{ij} = \\int_K \\phi_i(x) \\phi_j(x), \\quad i,j=1,\\dots,N^K_{\\text{dof}}\n",
    "$$\n",
    "where $N^K_{\\text{dof}}$ is the number of degrees of freedom in element $K$ (for instance, in $P_1-Lagrange$ elements, $N^K=3$).\n",
    "2. **Add to the global matrix** the these local contributions:\n",
    "$$\n",
    "M_{IJ} = M_{IJ} + M^K_{i,j},  \\quad i,j=1,...,N^K_{\\text{dof},}\n",
    "$$\n",
    "where notation $I,J \\in \\{1,\\dots,N_{\\text dofs}\\}$ ($N_{\\text dofs}$ is the total number of degrees of freedom in the mesh) represent the global indices  of the the degrees of freedom whose local indices (in element $K$) are repectively $i,j \\in \\{1,\\dots,N^K_{\\text dofs}\\}$"
   ]
  },
  {
   "cell_type": "code",
   "execution_count": 26,
   "metadata": {},
   "outputs": [
    {
     "data": {
      "text/plain": [
       "2×2 Matrix{Any}:\n",
       " 0.166667   0.0833333\n",
       " 0.0833333  0.166667"
      ]
     },
     "execution_count": 26,
     "metadata": {},
     "output_type": "execute_result"
    }
   ],
   "source": [
    "#\n",
    "# Bulid **local mass matrix** in one element\n",
    "#\n",
    "n = num_local_dofs(fe)\n",
    "Me = Matrix(undef, n, n)\n",
    "id_element = 1\n",
    "JxW = get_JxW(fe, id_element)\n",
    "for i=1:n\n",
    "    for j=1:n\n",
    "        Me[i,j] = sum(@. JxW*phi[i]*phi[j])\n",
    "    end\n",
    "end\n",
    "Me"
   ]
  },
  {
   "cell_type": "code",
   "execution_count": 27,
   "metadata": {},
   "outputs": [
    {
     "data": {
      "text/plain": [
       "3×3 SparseMatrixCSC{Float64, Int64} with 7 stored entries:\n",
       " 0.166667   0.0833333   ⋅ \n",
       " 0.0833333  0.333333   0.0833333\n",
       "  ⋅         0.0833333  0.166667"
      ]
     },
     "execution_count": 27,
     "metadata": {},
     "output_type": "execute_result"
    }
   ],
   "source": [
    "#\n",
    "# Build **global mass matrix** (version 1)\n",
    "#\n",
    "using SparseArrays\n",
    "M = spzeros((num_global_dofs(fe), num_global_dofs(fe)))\n",
    "n = num_local_dofs(fe)\n",
    "M_e = Matrix(undef, n, n)\n",
    "for id_elem = 1:num_elements(fe)\n",
    "    # 1) Compute local matrix\n",
    "    JxW = get_JxW(fe, id_element)\n",
    "    for i=1:n\n",
    "        for j=1:n\n",
    "            M_e[i,j] = sum(@. JxW*phi[i]*phi[j])\n",
    "        end\n",
    "    end\n",
    "    # 2) Add local contributions to global matrix\n",
    "    dof_indices = get_dof_indices(fe, id_elem)\n",
    "    for i=1:n\n",
    "        I = dof_indices[i]\n",
    "        for j=1:n\n",
    "            J = dof_indices[j]\n",
    "            M[I,J] += M_e[i,j]\n",
    "        end\n",
    "    end\n",
    "end\n",
    "M"
   ]
  },
  {
   "cell_type": "code",
   "execution_count": 28,
   "metadata": {},
   "outputs": [
    {
     "data": {
      "text/plain": [
       "3×3 SparseMatrixCSC{Float64, Int64} with 7 stored entries:\n",
       " 0.166667   0.0833333   ⋅ \n",
       " 0.0833333  0.333333   0.0833333\n",
       "  ⋅         0.0833333  0.166667"
      ]
     },
     "execution_count": 28,
     "metadata": {},
     "output_type": "execute_result"
    }
   ],
   "source": [
    "#\n",
    "# Build **global mass matrix** (version 2) \n",
    "#\n",
    "using SparseArrays\n",
    "M = spzeros((num_global_dofs(fe), num_global_dofs(fe)))\n",
    "n = num_local_dofs(fe)\n",
    "M_e = Matrix(undef, n, n)\n",
    "for id_elem = 1:num_elements(fe)\n",
    "    # 1) Compute local matrix\n",
    "    JxW = get_JxW(fe, id_element)    \n",
    "    for i=1:n\n",
    "        for j=1:n\n",
    "            M_e[i,j] = sum(@. JxW*phi[i]*phi[j])\n",
    "        end\n",
    "    end\n",
    "    # 2) Add local contributions to global matrix\n",
    "    dof_indices = get_dof_indices(fe, id_elem)\n",
    "    add_matrix(M, M_e, dof_indices)\n",
    "end\n",
    "M"
   ]
  },
  {
   "cell_type": "code",
   "execution_count": 29,
   "metadata": {},
   "outputs": [
    {
     "data": {
      "text/plain": [
       "3×3 SparseMatrixCSC{Float64, Int64} with 7 stored entries:\n",
       " 0.166667   0.0833333   ⋅ \n",
       " 0.0833333  0.333333   0.0833333\n",
       "  ⋅         0.0833333  0.166667"
      ]
     },
     "execution_count": 29,
     "metadata": {},
     "output_type": "execute_result"
    }
   ],
   "source": [
    "#\n",
    "# Build **global mass matrix** (version 3) \n",
    "#\n",
    "using SparseArrays\n",
    "M = spzeros((num_global_dofs(fe), num_global_dofs(fe)))\n",
    "n = num_local_dofs(fe)\n",
    "M_e = Matrix(undef, n, n)\n",
    "for id_elem = 1:num_elements(fe)\n",
    "    # 1) Compute local matrix\n",
    "    integrate(M_e, (i, j) -> phi[i].*phi[j], id_elem, fe)\n",
    "    # 2) Add local contributions to global matrix\n",
    "    dof_indices = get_dof_indices(fe, id_elem)\n",
    "    add_matrix(M, M_e, dof_indices)\n",
    "end\n",
    "M"
   ]
  },
  {
   "cell_type": "code",
   "execution_count": null,
   "metadata": {},
   "outputs": [],
   "source": []
  }
 ],
 "metadata": {
  "@webio": {
   "lastCommId": null,
   "lastKernelId": null
  },
  "kernelspec": {
   "display_name": "Julia 1.7.1",
   "language": "julia",
   "name": "julia-1.7"
  },
  "language_info": {
   "file_extension": ".jl",
   "mimetype": "application/julia",
   "name": "julia",
   "version": "1.7.1"
  }
 },
 "nbformat": 4,
 "nbformat_minor": 4
}
