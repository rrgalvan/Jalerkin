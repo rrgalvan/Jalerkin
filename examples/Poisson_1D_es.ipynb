{
 "cells": [
  {
   "cell_type": "markdown",
   "metadata": {},
   "source": [
    "# Poisson 1D\n",
    "\n",
    "Aproximación numérica de la solución del problema de Poisson con condiciones Neumann (homogéneas): hallar $u:\\Omega \\to \\mathbb{R}$, donde $\\Omega=(x_a,x_b)=(0,1)\\subset\\mathbb R$, tal que\n",
    "$$\n",
    "\\begin{align}\n",
    "-\\Delta u &= 2 \\quad \\text{en } \\Omega,\\\\\n",
    "\\nabla u \\cdot \\mathbf{n} &= 0 \\quad\\text{sobre }\\partial\\Omega,\n",
    "\\end{align}\n",
    "$$\n",
    "donde $\\mathbf{n}$ es el vector normal exterior a $\\Omega$. En este caso 1-dimensional, $\\mathbf{n}=-1$ en $x_a$ y $\\mathbf{n}=+1$ en $x_b$ (a la vez que $\\Delta u=u''$ y $\\nabla u = u'$).\n",
    "\n",
    "Idea:\n",
    "1. La formulación variacional es: hallar $u\\in V=H^1(\\Omega)$ tal que $a(u,v)=b(v)$ para todo $v\\in V$, con $a(u,v)=\\int_\\Omega \\nabla u \\nabla v$ y $b(v)=\\int_\\Omega f\\;v$ (en este caso, $f(x)=2$).\n",
    "\n",
    "2. El método de Galerkin-MEF nos llevaría a: Hallar $u_h = \\sum_{i=1}^N u_j \\varphi_j$ tal que $U=(u_1,\\dots,u_N)$ es solución del sistema\n",
    "$$\n",
    "A \\cdot U = B,\n",
    "$$\n",
    "siendo A la matriz de difusión $A_{ij}=\\int_\\Omega \\nabla\\phi_i \\nabla \\phi_j$ y $B_i=\\int_\\Omega f\\; \\phi_i$"
   ]
  },
  {
   "cell_type": "markdown",
   "metadata": {},
   "source": [
    "<hr style=\"height:2px\"> \n",
    " \n",
    "Vaya, no me he dado cuenta y lo he escrito todo en español :)\n",
    "\n",
    "Habría que traducirlo al inglés, pero a lo mejor podemos dejar también esta versión en español! He renombrado el fichero a `Poisson_1D_es`, la versión inglesa puede estar en el cuaderno `Poisson_1D`\n",
    "\n",
    "<hr style=\"height:2px\">"
   ]
  },
  {
   "cell_type": "code",
   "execution_count": null,
   "metadata": {},
   "outputs": [],
   "source": []
  }
 ],
 "metadata": {
  "kernelspec": {
   "display_name": "Julia 1.7.1",
   "language": "julia",
   "name": "julia-1.7"
  },
  "language_info": {
   "file_extension": ".jl",
   "mimetype": "application/julia",
   "name": "julia",
   "version": "1.7.1"
  }
 },
 "nbformat": 4,
 "nbformat_minor": 4
}
