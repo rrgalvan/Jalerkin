{
 "cells": [
  {
   "cell_type": "markdown",
   "id": "14da12f0",
   "metadata": {},
   "source": [
    "# Python Example: Finite Element 1D"
   ]
  },
  {
   "cell_type": "code",
   "execution_count": 2,
   "id": "0b391b49",
   "metadata": {},
   "outputs": [],
   "source": [
    "# Automatic reload of packages (if they are modified)\n",
    "%load_ext autoreload\n",
    "%autoreload 2"
   ]
  },
  {
   "cell_type": "code",
   "execution_count": 11,
   "id": "5b28a3a6",
   "metadata": {},
   "outputs": [],
   "source": [
    "# Load Jalerkin package (e.g., file Jalerkin.py located in current directory)\n",
    "from Jalerkin import Quadrature, Mesh1D"
   ]
  },
  {
   "cell_type": "code",
   "execution_count": 12,
   "id": "1d04f5be",
   "metadata": {},
   "outputs": [],
   "source": [
    "# Test Quadrature: \n",
    "\n",
    "# a) compute $\\int_0^1 x^3 dx$ using Simpson's quad. rule\n",
    "nodes = np.array([0, 0.5, 1])\n",
    "weights = np.array([1/6, 2/3, 1/6])\n",
    "simpson_qr = Quadrature(nodes, weights)\n",
    "print(simpson_qr.integrate(lambda x:x**3)) \n",
    "assert abs(simpson_qr.integrate(lambda x:x**3) - 1/4) < 1.e-15\n",
    "\n",
    "# b) compute $\\int_{-1}^1 x^6 dx$ using Gaussian quad. rule\n",
    "gauss_qr = GaussianQuadrature(4) # Exact up to order 2*4-1 = 7\n",
    "print(gauss_qr.integrate(lambda_x: x**7)) \n",
    "assert abs(simpson_qr.integrate(lambda x:x**7)) < 1.e-15"
   ]
  },
  {
   "cell_type": "code",
   "execution_count": null,
   "id": "e92920e4",
   "metadata": {},
   "outputs": [],
   "source": [
    "# Define a mesh in the interval [0, 1]\n",
    "a, b = 0, 1\n",
    "ncells = 2\n",
    "mesh = Mesh1D(a, b, ncells)"
   ]
  },
  {
   "cell_type": "code",
   "execution_count": null,
   "id": "26bb9998",
   "metadata": {},
   "outputs": [],
   "source": [
    "# Define P1-Lagrange Finite Element space on the mesh with Simpson quad rule\n",
    "fe = FiniteElementLagrange(mesh, 1, quad_rule=simpson_qr)\n",
    "print(\"Order:\",fe.get_order())\n",
    "print(\"Mesh:\", fe.get_mesh())\n",
    "print(\"Quad. rule:\", fe.get_quad())"
   ]
  },
  {
   "cell_type": "code",
   "execution_count": null,
   "id": "cd6945b8",
   "metadata": {},
   "outputs": [],
   "source": [
    "# P1 basis function: evaluation on quadrature points (in reference element)\n",
    "fe = FiniteElementLagrange(mesh, 1)\n",
    "fe.get_phi()"
   ]
  },
  {
   "cell_type": "code",
   "execution_count": null,
   "id": "3bd226c2",
   "metadata": {},
   "outputs": [],
   "source": [
    "# P2 basis function: evaluation on quadrature points (in reference element)\n",
    "fe = FiniteElementLagrange(mesh, 2)\n",
    "fe.get_phi()"
   ]
  },
  {
   "cell_type": "code",
   "execution_count": null,
   "id": "55710f3e",
   "metadata": {},
   "outputs": [],
   "source": [
    "# Compute vector \"$J \\times W$\" in the element of index 1 where\n",
    "# * J = Jacobian matrix of the affine transform from reference element to current element\n",
    "# * W = Vector of basis functions evaluated on the quadrature points (in reference element)\n",
    "element_index = 1\n",
    "JxW = fe.get_JxW(element_index)"
   ]
  },
  {
   "cell_type": "code",
   "execution_count": null,
   "id": "e70635c6",
   "metadata": {},
   "outputs": [],
   "source": [
    "# Compute integral in latter element, element 1, of \\phi_1\\phi_2\n",
    "i, j = 1, 2\n",
    "println(\"phi_i evaluated on quad points: \", phi[i])\n",
    "println(\"phi_j evaluated on quad points: \", phi[j])\n",
    "println(\"JxW_element on quad points:     \", JxW)\n",
    "numerical_integral = sum( np.dot(np.dot(JxW, phi[i]), phi[j]) )\n",
    "print(\"int_element(phi_i*phi_j) ≃ sum_q(JxW[q]*phi_i[q]*phi_j[q]): \", numerical_integral)"
   ]
  }
 ],
 "metadata": {
  "kernelspec": {
   "display_name": "Python 3 (ipykernel)",
   "language": "python",
   "name": "python3"
  },
  "language_info": {
   "codemirror_mode": {
    "name": "ipython",
    "version": 3
   },
   "file_extension": ".py",
   "mimetype": "text/x-python",
   "name": "python",
   "nbconvert_exporter": "python",
   "pygments_lexer": "ipython3",
   "version": "3.11.4"
  }
 },
 "nbformat": 4,
 "nbformat_minor": 5
}
